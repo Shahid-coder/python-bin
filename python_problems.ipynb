{
  "nbformat": 4,
  "nbformat_minor": 0,
  "metadata": {
    "colab": {
      "provenance": [],
      "authorship_tag": "ABX9TyP275OAye7tzSao5D28ffcj",
      "include_colab_link": true
    },
    "kernelspec": {
      "name": "python3",
      "display_name": "Python 3"
    },
    "language_info": {
      "name": "python"
    }
  },
  "cells": [
    {
      "cell_type": "markdown",
      "metadata": {
        "id": "view-in-github",
        "colab_type": "text"
      },
      "source": [
        "<a href=\"https://colab.research.google.com/github/Shahid-coder/python-bin/blob/main/python_problems.ipynb\" target=\"_parent\"><img src=\"https://colab.research.google.com/assets/colab-badge.svg\" alt=\"Open In Colab\"/></a>"
      ]
    },
    {
      "cell_type": "code",
      "execution_count": null,
      "metadata": {
        "id": "WEq33kx5Wc-T"
      },
      "outputs": [],
      "source": [
        "print(\"hello world\")"
      ]
    },
    {
      "cell_type": "code",
      "source": [
        "a=8\n",
        "b=\"hello\"\n",
        "c=()\n",
        "d=9.0\n",
        "e=(2,)\n",
        "f=complex(2,2)\n",
        "print(type(a))\n",
        "print(type(b))\n",
        "print(type(c))\n",
        "print(type(d))\n",
        "print(type(e))\n",
        "print(type(f))"
      ],
      "metadata": {
        "id": "8l_Y8pFrWtjU"
      },
      "execution_count": null,
      "outputs": []
    },
    {
      "cell_type": "code",
      "source": [
        "#program to check whether a number is even of not\n",
        "Num=int(input(\"Enter a= \"))\n",
        "if Num%2==0:\n",
        "    print(\"number is even\")\n",
        "else:\n",
        "    print(\"number is odd\")"
      ],
      "metadata": {
        "id": "JcMpfuUDb-L0"
      },
      "execution_count": null,
      "outputs": []
    },
    {
      "cell_type": "code",
      "source": [
        "#program to find the largest number\n",
        "a=int(input(\"Enter your first number\"))\n",
        "b=int(input(\"Enter your second number\"))\n",
        "c=int(input(\"Enter your third number\"))\n",
        "if a>b and a>c:\n",
        "    print(\" %   is the greatest of all\" %(a))\n",
        "elif b>a and b>c:\n",
        "    print(\" %   is the greatest of all\" %(b))\n",
        "else:\n",
        "    print(\"% is the greatest of all\" %(c))"
      ],
      "metadata": {
        "id": "gxD4RFWgcuYr"
      },
      "execution_count": null,
      "outputs": []
    },
    {
      "cell_type": "code",
      "source": [
        "#program to check whether a person is eligible to vote or not\n",
        "age=int(input(\"Enter your age Mr. :\"))\n",
        "age_left=18-age\n",
        "if age>18:\n",
        "     print(\"Congratulations! you are eligible for voting\")\n",
        "else:\n",
        "     print(\"Aww you are {} years left for eligibility of vote\".format(age_left))"
      ],
      "metadata": {
        "id": "Qm7miBO8eteF"
      },
      "execution_count": null,
      "outputs": []
    },
    {
      "cell_type": "code",
      "source": [
        "#Iterate string using for loop\n",
        "name=input(\"Enter your name: \")\n",
        "for i in name:\n",
        "    print(i)\n",
        "#Iterate numbers of string \n",
        "for k in range(len(name)):\n",
        "    print(\"\\n\",k)"
      ],
      "metadata": {
        "id": "lW3uHnY1hXt8"
      },
      "execution_count": null,
      "outputs": []
    },
    {
      "cell_type": "code",
      "source": [
        "import math\n",
        "#program to find the sum of given numbers\n",
        "print(\"Enter your no.s below:\")\n",
        "list=[int(input(\"\\n\")),int(input(\"\\n\")),int(input(\"\\n\"))]\n",
        "sum=0\n",
        "for i in list:\n",
        "  sum = sum+i\n",
        "print(\"\\nThe sum of your given no. is \",sum)"
      ],
      "metadata": {
        "id": "3d8cmTJPiZZR"
      },
      "execution_count": null,
      "outputs": []
    },
    {
      "cell_type": "code",
      "source": [
        "#program to print number in sequence\n",
        "for i in range(10):\n",
        "  print(i,end=',',)"
      ],
      "metadata": {
        "id": "q9InWFKmmnEW"
      },
      "execution_count": null,
      "outputs": []
    },
    {
      "cell_type": "code",
      "source": [
        "#program to print table of a given no.\n",
        "n=int(input(\"Enter your no.: \"))\n",
        "for i in range(1,21):\n",
        "  c=table*i\n",
        "  print(n,\"×\",i,\"=\",c)"
      ],
      "metadata": {
        "id": "iIKJ-LhNoT42"
      },
      "execution_count": null,
      "outputs": []
    },
    {
      "cell_type": "code",
      "source": [
        "\n",
        "\n",
        "#program to print even no.\n",
        "n=int(input(\"Enter your no.: \"))\n",
        "for i in range(2,n,2):\n",
        "  print(i)"
      ],
      "metadata": {
        "id": "x8z1jeelp0jt"
      },
      "execution_count": null,
      "outputs": []
    },
    {
      "cell_type": "code",
      "source": [
        "#program to greet everyone\n",
        "print(\"The given names are:\\n\")\n",
        "list=[input(\"\\n\"),input(\"\\n\"),input(\"\\n\")]\n",
        "for i in range(len(list)):\n",
        "  print(\"Good morning {}.\".format(list[i]))"
      ],
      "metadata": {
        "id": "Rwm4vdszq6dm"
      },
      "execution_count": null,
      "outputs": []
    },
    {
      "cell_type": "code",
      "source": [
        "#programs to print squares of first 4 natural numbers using while loop\n",
        "n=1\n",
        "while n<4:\n",
        "  print(n*n)\n",
        "  n+=1"
      ],
      "metadata": {
        "id": "00B5xwLeWCRt"
      },
      "execution_count": null,
      "outputs": []
    },
    {
      "cell_type": "code",
      "source": [
        "#programs to print first 10 natural numbers.\n",
        "i=0\n",
        "while i<10:\n",
        "  i+=1 #here it prints no.s from 1\n",
        "  print(i)\n",
        "# don't write i+=1 here otherwise it will print no.s from 0 to 9"
      ],
      "metadata": {
        "id": "630-WSKMXSZM"
      },
      "execution_count": null,
      "outputs": []
    },
    {
      "cell_type": "code",
      "source": [
        "#program using break statement\n",
        "x=1\n",
        "while x<=19:\n",
        "  if x==5:\n",
        "    break\n",
        "#  x+=1\n",
        "  print(x)\n",
        "  x+=1"
      ],
      "metadata": {
        "id": "LWM5rJSqYJdS"
      },
      "execution_count": null,
      "outputs": []
    },
    {
      "cell_type": "code",
      "source": [
        "#continue statements:-this statements skips the values\n",
        "x=1\n",
        "while x<=10:\n",
        "  if x==5:\n",
        "    x+=1\n",
        "    continue\n",
        "  print(x)\n",
        "  x+=1"
      ],
      "metadata": {
        "id": "D6-Oi96HZCIt"
      },
      "execution_count": null,
      "outputs": []
    },
    {
      "cell_type": "code",
      "source": [
        "'''\n",
        "conditions in for loop does not work\n",
        "lst=[23,eoe,2]\n",
        "for x<range(len(lst)):\n",
        "  print(x)\n",
        "  x+=1\n",
        "'''\n",
        "lst=[23,\"eoe\",2]\n",
        "for x in range(len(lst)):\n",
        "#  x+=1\n",
        "  print(x)\n",
        "  x+=1"
      ],
      "metadata": {
        "id": "tkjxZnfTZnir"
      },
      "execution_count": null,
      "outputs": []
    },
    {
      "cell_type": "code",
      "source": [
        "#importing multiple modules into one code\n",
        "!pip install scipy\n",
        "!pip install numpy\n",
        "!pip install matplotlib\n",
        "!pip install pandas\n",
        "import scipy,numpy,matplotlib,pandas"
      ],
      "metadata": {
        "id": "8HHZK_H3azUX"
      },
      "execution_count": null,
      "outputs": []
    },
    {
      "cell_type": "code",
      "source": [
        "\n",
        "#dir() function\n",
        "from matplotlib import pyplot as plt\n",
        "import numpy\n",
        "print(\"All functions of numpy are: \",dir(numpy))\n",
        "print(\"\\nAll functions of matplotlib are: \",dir(plt))"
      ],
      "metadata": {
        "id": "QAs5hiLFb7C8"
      },
      "execution_count": null,
      "outputs": []
    },
    {
      "cell_type": "code",
      "source": [
        "#The reload function\n",
        "from matplotlib import pyplot as plt\n",
        "import importlib\n",
        "importlib.reload(plt)"
      ],
      "metadata": {
        "id": "SCE46N8bd6bc"
      },
      "execution_count": null,
      "outputs": []
    },
    {
      "cell_type": "code",
      "source": [
        "#python program to add two numbers\n",
        "n1=input(\"First no.: \")\n",
        "n2=input(\"Second no.: \")\n",
        "\n",
        "#Adding two no.s\n",
        "#user might also enter float numbers\n",
        "sum= float(n1)+float(n2)\n",
        "#Display the sum \n",
        "#will print value in float\n",
        "print(\"The sum of {1} and {0} is {2}\".format(n1,n2,sum))"
      ],
      "metadata": {
        "id": "LzAMXkBPe-_O"
      },
      "execution_count": null,
      "outputs": []
    },
    {
      "cell_type": "code",
      "source": [
        "n=int(input(\"Enter your no.: \"))\n",
        "count=0\n",
        "for i in range(n):\n",
        "  count=count+i\n",
        "  print(count)"
      ],
      "metadata": {
        "id": "1-4SepCrjMTI"
      },
      "execution_count": null,
      "outputs": []
    },
    {
      "cell_type": "code",
      "source": [
        "#python program to count the no. of digits in a no.\n",
        "n=int(input(\"Enter your no.: \"))\n",
        "count=0\n",
        "while n>0:\n",
        "  count=count+1\n",
        "  n=n//10\n",
        "print(count)"
      ],
      "metadata": {
        "id": "rwBS1VOphYpI"
      },
      "execution_count": null,
      "outputs": []
    }
  ]
}